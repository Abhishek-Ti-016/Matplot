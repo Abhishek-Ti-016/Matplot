{
 "cells": [
  {
   "cell_type": "code",
   "execution_count": 7,
   "id": "8fed3966-489f-41f0-842d-49f43bd5d895",
   "metadata": {},
   "outputs": [
    {
     "data": {
      "image/png": "[encoded data removed]",
      "text/plain": [
       "<Figure size 640x480 with 1 Axes>"
      ]
     },
     "metadata": {},
     "output_type": "display_data"
    }
   ],
   "source": [
    "import matplotlib.pyplot as plt\n",
    "\n",
    "#Histogram : used to get frequency of value\n",
    "\n",
    "x = [30,40,60,50,27,59,27,10,1,40,40,59,62,78,28,1,12,45]\n",
    "plt.hist(x, bins = 12, edgecolor = \"Red\",color = \"Black\")\n",
    "plt.show()\n"
   ]
  },
  {
   "cell_type": "code",
   "execution_count": 14,
   "id": "6dde81ab-12fa-4571-a91f-a33e8949ac97",
   "metadata": {},
   "outputs": [
    {
     "name": "stdout",
     "output_type": "stream",
     "text": [
      "   Employee ID          Full Name               Job Title   Department  \\\n",
      "0       E02002             Kai Le       Controls Engineer  Engineering   \n",
      "1       E02003       Robert Patel                 Analyst        Sales   \n",
      "2       E02004         Cameron Lo   Network Administrator           IT   \n",
      "3       E02005    Harper Castillo    IT Systems Architect           IT   \n",
      "4       E02006   Harper Dominguez                Director  Engineering   \n",
      "5       E02007            Ezra Vu   Network Administrator           IT   \n",
      "6       E02008            Jade Hu             Sr. Analyst   Accounting   \n",
      "7       E02009        Miles Chang              Analyst II      Finance   \n",
      "8       E02011     Jameson Thomas                 Manager      Finance   \n",
      "9       E02012       Jameson Pena         Systems Analyst           IT   \n",
      "10      E02013           Bella Wu             Sr. Analyst      Finance   \n",
      "11      E02014          Jose Wong                Director           IT   \n",
      "12      E02015   Lucas Richardson                 Manager    Marketing   \n",
      "13      E02016        Jacob Moore             Sr. Manager    Marketing   \n",
      "14      E02017            Luna Lu    IT Systems Architect           IT   \n",
      "15      E02018         Bella Tran          Vice President  Engineering   \n",
      "16      E02019           Ivy Chau                 Analyst        Sales   \n",
      "17      E02020       Jordan Kumar    Service Desk Analyst           IT   \n",
      "18      E02021   Sophia Gutierrez                 Manager   Accounting   \n",
      "19      E02022           Eli Dang             Sr. Manager   Accounting   \n",
      "20      E02023      Lillian Lewis     Technical Architect           IT   \n",
      "21      E02024       Serenity Cao  Account Representative        Sales   \n",
      "22      E02025         Parker Lai          Vice President   Accounting   \n",
      "23      E02026    Charles Simmons                 Manager        Sales   \n",
      "24      E02027         Jayden Luu                Director   Accounting   \n",
      "25      E02028  Brooks Richardson                Director    Marketing   \n",
      "26      E02029       Ivy Thompson                 Manager    Marketing   \n",
      "27      E02030      Peyton Wright             Sr. Manager    Marketing   \n",
      "28      E02032     Ruby Alexander          Vice President      Finance   \n",
      "29      E02033            Axel Oh             Sr. Analyst        Sales   \n",
      "\n",
      "    Gender  Ethnicity  Age  Annual Salary  Bonus %        Country  \n",
      "0     Male      Asian   47          92368     0.00  United States  \n",
      "1     Male      Asian   58          45703     0.00  United States  \n",
      "2     Male      Asian   34          83576     0.00          China  \n",
      "3   Female     Latino   39          98062     0.00  United States  \n",
      "4   Female     Latino   42         175391     0.24  United States  \n",
      "5     Male      Asian   62          66227     0.00  United States  \n",
      "6   Female      Asian   58          89744     0.00          China  \n",
      "7     Male      Asian   62          69674     0.00          China  \n",
      "8     Male  Caucasian   52         105879     0.10  United States  \n",
      "9     Male     Latino   49          40499     0.00  United States  \n",
      "10  Female      Asian   63          71418     0.00  United States  \n",
      "11    Male      Asian   45         150558     0.23          China  \n",
      "12    Male  Caucasian   36         118912     0.08  United States  \n",
      "13    Male      Black   42         131422     0.15  United States  \n",
      "14  Female      Asian   62          64208     0.00  United States  \n",
      "15  Female      Asian   45         254486     0.33          China  \n",
      "16  Female      Asian   61          54811     0.00          China  \n",
      "17    Male      Asian   29          95729     0.00  United States  \n",
      "18  Female     Latino   63         102649     0.06  United States  \n",
      "19    Male      Asian   45         122875     0.12  United States  \n",
      "20  Female      Black   43          83323     0.00  United States  \n",
      "21  Female      Asian   31          66721     0.00          China  \n",
      "22    Male      Asian   48         246400     0.36          China  \n",
      "23    Male  Caucasian   55         113525     0.06  United States  \n",
      "24    Male      Asian   64         184342     0.22          China  \n",
      "25    Male  Caucasian   58         151341     0.22  United States  \n",
      "26  Female  Caucasian   50         118900     0.05  United States  \n",
      "27  Female      Black   41         153370     0.10  United States  \n",
      "28  Female  Caucasian   59         255610     0.36  United States  \n",
      "29    Male      Asian   26          84962     0.00          China  \n"
     ]
    },
    {
     "data": {
      "image/png": "[encoded data removed]",
      "text/plain": [
       "<Figure size 640x480 with 1 Axes>"
      ]
     },
     "metadata": {},
     "output_type": "display_data"
    }
   ],
   "source": [
    "import pandas as pd\n",
    "import matplotlib.pyplot as plt\n",
    "\n",
    "data = pd.read_csv(\"Employee.csv\")\n",
    "df = pd.DataFrame(data)\n",
    "print(df.head(30))\n",
    "plt.hist(df[\"Age\"],bins = 20)\n",
    "plt.show()"
   ]
  },
  {
   "cell_type": "code",
   "execution_count": null,
   "id": "2584c779-2745-4f06-9745-d263171054ab",
   "metadata": {},
   "outputs": [],
   "source": []
  }
 ],
 "metadata": {
  "kernelspec": {
   "display_name": "Python 3 (ipykernel)",
   "language": "python",
   "name": "python3"
  },
  "language_info": {
   "codemirror_mode": {
    "name": "ipython",
    "version": 3
   },
   "file_extension": ".py",
   "mimetype": "text/x-python",
   "name": "python",
   "nbconvert_exporter": "python",
   "pygments_lexer": "ipython3",
   "version": "3.12.2"
  }
 },
 "nbformat": 4,
 "nbformat_minor": 5
}
